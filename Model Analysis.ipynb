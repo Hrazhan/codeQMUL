{
 "cells": [
  {
   "cell_type": "markdown",
   "id": "8e1c6427",
   "metadata": {},
   "source": [
    "# Model Analysis"
   ]
  },
  {
   "cell_type": "markdown",
   "id": "3f29aeb0",
   "metadata": {},
   "source": [
    "Below we will analyze the result of our model after being trained for 200,000 steps. "
   ]
  },
  {
   "cell_type": "code",
   "execution_count": 1,
   "id": "947f598b",
   "metadata": {},
   "outputs": [],
   "source": [
    "import re\n",
    "from transformers import pipeline, set_seed\n",
    "from transformers import AutoConfig, AutoModelForCausalLM, AutoTokenizer\n",
    "\n",
    "set_seed(42)"
   ]
  },
  {
   "cell_type": "code",
   "execution_count": 3,
   "id": "0a200c2c",
   "metadata": {},
   "outputs": [],
   "source": [
    "model = AutoModelForCausalLM.from_pretrained(\"razhan/codeqmul\")\n",
    "tokenizer = AutoTokenizer.from_pretrained(\"razhan/codeqmul\")\n",
    "generation = pipeline('text-generation', model=\"razhan/codeqmul\", device=0)"
   ]
  },
  {
   "cell_type": "code",
   "execution_count": 4,
   "id": "b62ef655",
   "metadata": {},
   "outputs": [
    {
     "name": "stdout",
     "output_type": "stream",
     "text": [
      "Model size: 111.2M parameters\n"
     ]
    }
   ],
   "source": [
    "print(f'Model size: {sum(t.numel() for t in model.parameters())/1000**2:.1f}M parameters')"
   ]
  },
  {
   "cell_type": "code",
   "execution_count": 5,
   "id": "8af935fc",
   "metadata": {},
   "outputs": [],
   "source": [
    "\n",
    "\n",
    "def first_block(string):\n",
    "    return re.split('\\nclass|\\ndef|\\n#|\\n@|\\nprint|\\nif', string)[0].rstrip()\n",
    "\n",
    "def autocomplete(pipe, prompt, max_length=64, num_completions=4, seed=42):\n",
    "    set_seed(seed)\n",
    "    gen_kwargs = {\"temperature\":0.4, \"top_p\":0.95, \"top_k\":0, \"num_beams\":1, \"do_sample\":True,}\n",
    "    code_gens = generation(prompt, num_return_sequences=num_completions,\n",
    "        max_length=max_length, **gen_kwargs)\n",
    "    code_strings = []\n",
    "    for code_gen in code_gens:\n",
    "        generated_code = first_block(code_gen['generated_text'][len(prompt):])\n",
    "        code_strings.append(generated_code)\n",
    "    print(('\\n'+'#'*80 + '\\n').join(code_strings))"
   ]
  },
  {
   "cell_type": "code",
   "execution_count": 9,
   "id": "37a7048f",
   "metadata": {},
   "outputs": [
    {
     "name": "stderr",
     "output_type": "stream",
     "text": [
      "Setting `pad_token_id` to `eos_token_id`:0 for open-end generation.\n"
     ]
    },
    {
     "name": "stdout",
     "output_type": "stream",
     "text": [
      "\n",
      "urls = []\n",
      "for link in re.findall(r'<a href=\"(.+?)\"', html):\n",
      "  url = link[link.find('href') + len('href'):]\n",
      "  urls.append(url)\n",
      "return urls\n",
      "################################################################################\n",
      "\n",
      "urls = []\n",
      "for match in re.finditer(r'<a href=\"(.*?)\">', html):\n",
      "  url = match.group(1)\n",
      "  urls.append(url)\n",
      "return urls\n",
      "################################################################################\n",
      "\n",
      "urls = []\n",
      "for match in re.finditer(r'href\\s*=\\s*[\"\\']([^\"\\']*)', html):\n",
      "  url = match.group(1)\n",
      "  urls.append(url)\n",
      "################################################################################\n",
      "\n",
      "urls = []\n",
      "for link in re.findall(r'<a href=\"([^\"]+)\"', html):\n",
      "  urls.append(link.replace(r'\\/', '/'))\n",
      "return urls\n"
     ]
    }
   ],
   "source": [
    "prompt = '''def get_urls_from_html(html):\n",
    "\"\"\"Get all embedded URLs in a HTML string.\"\"\"'''\n",
    "autocomplete(generation, prompt, max_length=96)"
   ]
  },
  {
   "cell_type": "code",
   "execution_count": 25,
   "id": "184fe286",
   "metadata": {},
   "outputs": [
    {
     "name": "stderr",
     "output_type": "stream",
     "text": [
      "Setting `pad_token_id` to `eos_token_id`:0 for open-end generation.\n"
     ]
    },
    {
     "name": "stdout",
     "output_type": "stream",
     "text": [
      "\n",
      "    \"\"\"\n",
      "    Return the size of a file.\n",
      "\n",
      "    :param filepath: Path to the file.\n",
      "    :type filepath: str\n",
      "    :return: File size in bytes.\n",
      "    :rtype: int\n",
      "    \"\"\"\n",
      "    with open(filepath, 'rb') as f:\n",
      "        return os.path.getsize(f.name)\n",
      "################################################################################\n",
      "\n",
      "    \"\"\"\n",
      "    Returns the size of a file in bytes.\n",
      "\n",
      "    :param filepath: path to the file to get the size of\n",
      "    :type filepath: str\n",
      "    :return: size of the file in bytes\n",
      "    :rtype: int\n",
      "    \"\"\"\n",
      "    with open(filepath, 'rb') as f:\n",
      "        return os.path.getsize(filepath)\n",
      "################################################################################\n",
      "\n",
      "    \"\"\"\n",
      "    Returns the size of a file, in bytes.\n",
      "\n",
      "    :param filepath: The file to check.\n",
      "    :type filepath: str\n",
      "    :returns: The size of the file, in bytes.\n",
      "    :rtype: int\n",
      "    \"\"\"\n",
      "    with open(filepath, 'rb') as f:\n",
      "        return os.path.getsize(filepath)\n",
      "################################################################################\n",
      "\n",
      "    \"\"\"\n",
      "    Returns the size of a file in bytes.\n",
      "\n",
      "    :param filepath: The path to the file to be read.\n",
      "    :type filepath: str\n",
      "    :return: The size of the file in bytes.\n",
      "    :rtype: int\n",
      "    \"\"\"\n",
      "    with open(filepath, \"rb\") as f:\n",
      "        return os.path.getsize(filepath)\n"
     ]
    }
   ],
   "source": [
    "prompt = '''def get_file_size(filepath):'''\n",
    "autocomplete(generation, prompt, max_length=96)"
   ]
  },
  {
   "cell_type": "code",
   "execution_count": 13,
   "id": "0d6f56e6",
   "metadata": {},
   "outputs": [
    {
     "name": "stderr",
     "output_type": "stream",
     "text": [
      "Setting `pad_token_id` to `eos_token_id`:0 for open-end generation.\n"
     ]
    },
    {
     "name": "stdout",
     "output_type": "stream",
     "text": [
      "\n",
      "    if request.method == \"POST\":\n",
      "        username = request.form.get(\"username\")\n",
      "        password = request.form.get(\"password\")\n",
      "        email = request.form.get(\"email\")\n",
      "        first_name = request.form.get(\"first_name\")\n",
      "        last_name = request.form.get(\"last_name\")\n",
      "        email_address = request.form.get(\"email_address\")\n",
      "        password_confirmation = request.form.get(\"password_confirmation\")\n",
      "        password_confirmation = password_confirmation.strip()\n",
      "        if password == password_confirmation:\n",
      "            if username == email:\n",
      "                flash(\"You have already registered\")\n",
      "                return redirect(url_for(\"login\"))\n",
      "            else:\n",
      "                user = User(username, email, first_name, last_name, password)\n",
      "                db.session.add(user)\n",
      "                db.session.commit()\n",
      "                flash(\"You have successfully registered\")\n",
      "                return redirect(url_for(\"index\"))\n",
      "        else:\n",
      "            flash(\"Incorrect password\")\n",
      "            return redirect(url_for(\"login\"))\n",
      "################################################################################\n",
      "\n",
      "    if request.method == \"POST\":\n",
      "        username = request.form.get(\"username\")\n",
      "        password = request.form.get(\"password\")\n",
      "        print(username)\n",
      "        print(password)\n",
      "        # check if username exists\n",
      "        if User.query.filter_by(username=username).first():\n",
      "            return render_template(\"register.html\", form=form)\n",
      "        else:\n",
      "            return render_template(\"register.html\", form=form)\n",
      "    return render_template(\"register.html\", form=form)\n",
      "################################################################################\n",
      "\n",
      "    if request.method == \"POST\":\n",
      "        email = request.form.get(\"email\")\n",
      "        password = request.form.get(\"password\")\n",
      "        user = User(email=email, password=password)\n",
      "        db.session.add(user)\n",
      "        db.session.commit()\n",
      "        return redirect(url_for(\"index\"))\n",
      "    return render_template(\"register.html\")\n",
      "################################################################################\n",
      "\n",
      "    if request.method == \"POST\":\n",
      "        if request.form[\"username\"]!= \"admin\":\n",
      "            return render_template(\"register.html\", username=request.form[\"username\"])\n",
      "        else:\n",
      "            return redirect(url_for(\"login\"))\n",
      "    return render_template(\"register.html\")\n"
     ]
    }
   ],
   "source": [
    "# Flask example\n",
    "prompt = '''@app.route(\"/register, method=[\"POST\"]\"):'''\n",
    "autocomplete(generation, prompt, max_length=256)"
   ]
  },
  {
   "cell_type": "code",
   "execution_count": 16,
   "id": "ab4b415d",
   "metadata": {},
   "outputs": [
    {
     "name": "stderr",
     "output_type": "stream",
     "text": [
      "Setting `pad_token_id` to `eos_token_id`:0 for open-end generation.\n"
     ]
    },
    {
     "name": "stdout",
     "output_type": "stream",
     "text": [
      "\n",
      "    word_count = {}\n",
      "    with open(filename) as f:\n",
      "        for line in f:\n",
      "            line = line.strip()\n",
      "            if line:\n",
      "                word, count = line.split()\n",
      "                word_count[word] = count\n",
      "    return word_count\n",
      "################################################################################\n",
      "\n",
      "    counts = {}\n",
      "    with open(filename, 'r', encoding='utf-8') as f:\n",
      "        for line in f:\n",
      "            line = line.strip()\n",
      "            if not line:\n",
      "                continue\n",
      "            if line[0] == '#':\n",
      "                continue\n",
      "            parts = line.split()\n",
      "            if len(parts)!= 2:\n",
      "                continue\n",
      "            counts[parts\n",
      "################################################################################\n",
      "\n",
      "    counter = Counter()\n",
      "    with open(filename, 'r') as f:\n",
      "        for line in f:\n",
      "            counter.update(line.lower().split())\n",
      "    return counter\n",
      "################################################################################\n",
      "\n",
      "    counts = {}\n",
      "    with open(filename, 'r', encoding='utf8') as f:\n",
      "        for line in f:\n",
      "            words = line.strip().split()\n",
      "            for word in words:\n",
      "                if word not in counts:\n",
      "                    counts[word] = 1\n",
      "                else:\n",
      "                    counts[word] += 1\n",
      "    return counts\n"
     ]
    }
   ],
   "source": [
    "prompt = '''def count_words(filename):\n",
    "    \"\"\"Count the number of occurrences of each word in the file\"\"\"'''\n",
    "autocomplete(generation, prompt, max_length=96)"
   ]
  },
  {
   "cell_type": "code",
   "execution_count": 18,
   "id": "5370816c",
   "metadata": {},
   "outputs": [
    {
     "name": "stderr",
     "output_type": "stream",
     "text": [
      "Setting `pad_token_id` to `eos_token_id`:0 for open-end generation.\n"
     ]
    },
    {
     "name": "stdout",
     "output_type": "stream",
     "text": [
      "\n",
      "clf = RandomForestClassifier(n_estimators=30)\n",
      "clf.fit(X, y)\n",
      "################################################################################\n",
      "\n",
      "clf = RandomForestClassifier(n_estimators=30)\n",
      "clf.fit(X, y)\n",
      "################################################################################\n",
      "\n",
      "clf = RandomForestClassifier(n_estimators=30)\n",
      "clf.fit(X, y)\n",
      "################################################################################\n",
      "\n",
      "clf = RandomForestClassifier(n_estimators=30, criterion=\"entropy\", max_depth=None, random_state=0)\n",
      "clf.fit(X, y)\n"
     ]
    }
   ],
   "source": [
    "prompt = '''X = np.random.randn(100, 100)\n",
    "y = np.random.randint(0, 1, 100)\n",
    "# fit random forest classifier with 30 estimators'''\n",
    "autocomplete(generation, prompt, max_length=96)"
   ]
  },
  {
   "cell_type": "code",
   "execution_count": 19,
   "id": "c8e423b7",
   "metadata": {},
   "outputs": [
    {
     "name": "stderr",
     "output_type": "stream",
     "text": [
      "/home/razhan/.local/lib/python3.10/site-packages/transformers/pipelines/base.py:1036: UserWarning: You seem to be using the pipelines sequentially on GPU. In order to maximize efficiency please use a dataset\n",
      "  warnings.warn(\n",
      "Setting `pad_token_id` to `eos_token_id`:0 for open-end generation.\n"
     ]
    },
    {
     "name": "stdout",
     "output_type": "stream",
     "text": [
      "\n",
      "    with gzip.open(filename, 'rb') as f:\n",
      "        return json.load(f)\n",
      "################################################################################\n",
      "\n",
      "    with gzip.open(filename, 'rb') as f:\n",
      "        return json.load(f)\n",
      "################################################################################\n",
      "\n",
      "    with gzip.open(filename, 'rb') as f:\n",
      "        return json.load(f)\n",
      "################################################################################\n",
      "\n",
      "    with gzip.open(filename, 'rb') as f:\n",
      "        return json.load(f)\n"
     ]
    }
   ],
   "source": [
    "prompt = '''def load_jsonl(filename):\n",
    "    \"\"\" Load the given gzip jsonl file. \"\"\"'''\n",
    "autocomplete(generation, prompt, max_length=96)"
   ]
  },
  {
   "cell_type": "code",
   "execution_count": 21,
   "id": "83eec236",
   "metadata": {},
   "outputs": [
    {
     "name": "stderr",
     "output_type": "stream",
     "text": [
      "Setting `pad_token_id` to `eos_token_id`:0 for open-end generation.\n"
     ]
    },
    {
     "name": "stdout",
     "output_type": "stream",
     "text": [
      "\n",
      "        self.name = name\n",
      "        self.age = age\n",
      "        self.gender = gender\n",
      "\n",
      "    def __str__(self):\n",
      "        return f\"Name: {self.name}, Age: {self.age}, Gender: {self.gender}\"\n",
      "################################################################################\n",
      "\n",
      "        self.name = name\n",
      "        self.age = age\n",
      "        self.gender = gender\n",
      "\n",
      "    def __repr__(self):\n",
      "        return f\"Person({self.name}, {self.age}, {self.gender})\"\n",
      "################################################################################\n",
      "\n",
      "        self.name = name\n",
      "        self.age = age\n",
      "        self.gender = gender\n",
      "\n",
      "    def __str__(self):\n",
      "        return f\"Name: {self.name}, Age: {self.age}, Gender: {self.gender}\"\n",
      "################################################################################\n",
      "\n",
      "        self.name = name\n",
      "        self.age = age\n",
      "        self.gender = gender\n",
      "\n",
      "    def __repr__(self):\n",
      "        return \"<Person {0}>\".format(self.name)\n"
     ]
    }
   ],
   "source": [
    "prompt = '''class Person:\n",
    "    def __init__(self, name, age, gender):'''\n",
    "autocomplete(generation, prompt, max_length=96)"
   ]
  },
  {
   "cell_type": "code",
   "execution_count": 30,
   "id": "61b3d704",
   "metadata": {},
   "outputs": [
    {
     "name": "stderr",
     "output_type": "stream",
     "text": [
      "Setting `pad_token_id` to `eos_token_id`:0 for open-end generation.\n"
     ]
    },
    {
     "name": "stdout",
     "output_type": "stream",
     "text": [
      "\n",
      "    return sum(a)/len(a)\n",
      "################################################################################\n",
      "\n",
      "    \"\"\"\n",
      "    Compute the mean of an array.\n",
      "\n",
      "    Parameters\n",
      "    ----------\n",
      "    a : array_like\n",
      "        Input array.\n",
      "\n",
      "    Returns\n",
      "    -------\n",
      "    out : ndarray\n",
      "        The mean of the values in the input array.\n",
      "\n",
      "    See Also\n",
      "    --------\n",
      "    var, std, nanmean, nanstd\n",
      "\n",
      "    Notes\n",
      "    -----\n",
      "    The mean is computed for each column in the input array, then for each\n",
      "    column the mean is computed for\n",
      "################################################################################\n",
      "\n",
      "    return np.mean(a)\n",
      "################################################################################\n",
      "\n",
      "    return sum(a)/len(a)\n"
     ]
    }
   ],
   "source": [
    "prompt = '''import numpy as np\n",
    "\n",
    "def mean(a):'''\n",
    "autocomplete(generation, prompt, max_length=96)"
   ]
  },
  {
   "cell_type": "code",
   "execution_count": 33,
   "id": "f6fba69f",
   "metadata": {},
   "outputs": [
    {
     "name": "stderr",
     "output_type": "stream",
     "text": [
      "Setting `pad_token_id` to `eos_token_id`:0 for open-end generation.\n"
     ]
    },
    {
     "name": "stdout",
     "output_type": "stream",
     "text": [
      "\n",
      "X_train, X_test, y_train, y_test = train_test_split(X, y, test_size=0.3, random_state=0)\n",
      "################################################################################\n",
      "\n",
      "X_train, X_test, y_train, y_test = train_test_split(X, y, test_size=0.3)\n",
      "################################################################################\n",
      "\n",
      "X_train, X_test, y_train, y_test = train_test_split(X, y, test_size=0.3, random_state=42)\n",
      "################################################################################\n",
      "\n",
      "X_train, X_test, y_train, y_test = train_test_split(X, y, test_size=0.3)\n"
     ]
    }
   ],
   "source": [
    "prompt = '''import numpy as np\n",
    "from sklearn.ensemble import RandomForestClassifier\n",
    "\n",
    "# create training data\n",
    "X = np.random.randn(100, 100)\n",
    "y = np.random.randint(0, 1, 100)\n",
    "\n",
    "# setup train test split with test_size of 0.3'''\n",
    "autocomplete(generation, prompt, max_length=256)"
   ]
  },
  {
   "cell_type": "code",
   "execution_count": null,
   "id": "7b7d0eec",
   "metadata": {},
   "outputs": [],
   "source": []
  }
 ],
 "metadata": {
  "kernelspec": {
   "display_name": "Python 3 (ipykernel)",
   "language": "python",
   "name": "python3"
  },
  "language_info": {
   "codemirror_mode": {
    "name": "ipython",
    "version": 3
   },
   "file_extension": ".py",
   "mimetype": "text/x-python",
   "name": "python",
   "nbconvert_exporter": "python",
   "pygments_lexer": "ipython3",
   "version": "3.10.5"
  }
 },
 "nbformat": 4,
 "nbformat_minor": 5
}
